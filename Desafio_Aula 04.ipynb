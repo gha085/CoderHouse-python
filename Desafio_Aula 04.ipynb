{
 "cells": [
  {
   "cell_type": "code",
   "execution_count": 60,
   "metadata": {},
   "outputs": [],
   "source": [
    "from plyer import notification \n",
    "from datetime import datetime\n",
    "\n",
    "def alerta(nivel,base,etapa): \n",
    "    if nivel == 1:\n",
    "        nomealerta = \"Atenção. Alerta Baixo\"\n",
    "    elif nivel == 2:\n",
    "        nomealerta = \"Atenção. Alerta Médio\"\n",
    "    elif nivel == 3:\n",
    "        nomealerta = \"Atenção. Alerta Alto\"\n",
    "    else: nomealerta =\"Atenção. Nível de alerta não definido\"\n",
    "    \n",
    "    notification.notify(\n",
    "      title= nomealerta,\n",
    "      message= f\"Falha no carregamento da base {base} na etapa {etapa} \\n {datetime.now()}\",\n",
    "      app_name='Nome do aplicativo',\n",
    "      timeout=10 )\n",
    "   "
   ]
  },
  {
   "cell_type": "code",
   "execution_count": 63,
   "metadata": {},
   "outputs": [],
   "source": [
    "alerta(4,base=\"Bola\",etapa=\"PELUDA\")"
   ]
  }
 ],
 "metadata": {
  "kernelspec": {
   "display_name": "Python 3",
   "language": "python",
   "name": "python3"
  },
  "language_info": {
   "codemirror_mode": {
    "name": "ipython",
    "version": 3
   },
   "file_extension": ".py",
   "mimetype": "text/x-python",
   "name": "python",
   "nbconvert_exporter": "python",
   "pygments_lexer": "ipython3",
   "version": "3.12.5"
  }
 },
 "nbformat": 4,
 "nbformat_minor": 2
}
