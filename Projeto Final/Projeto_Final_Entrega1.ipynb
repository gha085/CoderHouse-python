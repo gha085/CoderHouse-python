{
 "cells": [
  {
   "cell_type": "markdown",
   "metadata": {},
   "source": [
    "## Projeto Final - Primeira Entrega"
   ]
  },
  {
   "cell_type": "code",
   "execution_count": 60,
   "metadata": {},
   "outputs": [],
   "source": [
    "import pandas as pd\n",
    "import requests \n",
    "from datetime import datetime\n",
    "from plyer import notification"
   ]
  },
  {
   "cell_type": "code",
   "execution_count": 59,
   "metadata": {},
   "outputs": [],
   "source": [
    "#Função para exibir as notificações de erro no carregamento da API\n",
    "def alerta(api_nome, status_code):\n",
    "    notification.notify(\n",
    "        title=\"Erro na API\",\n",
    "        message=f\"Falha no carregamento da API {api_nome}\\nErro: {status_code}\\n{datetime.now()}\",\n",
    "        app_name=\"alerta\",\n",
    "        timeout=10\n",
    "    )"
   ]
  },
  {
   "cell_type": "code",
   "execution_count": 58,
   "metadata": {},
   "outputs": [],
   "source": [
    "#Criando dicionário com as URLs das APIs\n",
    "apis = {\n",
    "    \"temperaturas\": \"https://global-warming.org/api/temperature-api\",\n",
    "    \"gelo\": \"https://global-warming.org/api/arctic-api\",\n",
    "    \"oceanos\": \"https://global-warming.org/api/ocean-warming-api\"\n",
    "}\n",
    "\n",
    "#Função para extrair os dados das APIS\n",
    "def carregar_api(url, nome_api):\n",
    "    response = requests.get(url)\n",
    "    if response.status_code == 200:\n",
    "        print(f\"Conexão bem-sucedida com a API: {nome_api}\")\n",
    "        data = response.json()\n",
    "       #Transformar os dados em um dataframe\n",
    "        try:\n",
    "            return pd.DataFrame(data)\n",
    "        except ValueError:\n",
    "            alerta(nome_api, \"Dados retornados não podem ser convertidos em um dataframe\")\n",
    "            return None\n",
    "    else:\n",
    "        alerta(nome_api, response.status_code)\n",
    "        return None\n"
   ]
  },
  {
   "cell_type": "code",
   "execution_count": 57,
   "metadata": {},
   "outputs": [
    {
     "name": "stdout",
     "output_type": "stream",
     "text": [
      "\n",
      "Carregando dados da API: temperaturas\n",
      "Conexão bem-sucedida com a API: temperaturas\n",
      "Os 5 primeiros registros da tabela de temperaturas:\n",
      "   error                                             result\n",
      "0  None  {'time': '1880.04', 'station': '-0.31', 'land'...\n",
      "1  None  {'time': '1880.13', 'station': '-0.51', 'land'...\n",
      "2  None  {'time': '1880.21', 'station': '-0.34', 'land'...\n",
      "3  None  {'time': '1880.29', 'station': '-0.55', 'land'...\n",
      "4  None  {'time': '1880.38', 'station': '-0.24', 'land'...\n",
      "\n",
      "Carregando dados da API: gelo\n",
      "Conexão bem-sucedida com a API: gelo\n",
      "Os 5 primeiros registros da tabela de gelo:\n",
      "             error                                         arcticData\n",
      "description  None  {'title': 'Global Sea Ice Extent (1979-2024)',...\n",
      "data         None  {'197901': {'value': 20.81, 'anom': 1.79, 'mon...\n",
      "\n",
      "Carregando dados da API: oceanos\n",
      "Conexão bem-sucedida com a API: oceanos\n",
      "Os 5 primeiros registros da tabela de oceanos:\n",
      "      error result\n",
      "1851  None  -0.05\n",
      "1852  None   0.01\n",
      "1853  None   0.06\n",
      "1854  None   0.00\n",
      "1855  None   0.00\n"
     ]
    }
   ],
   "source": [
    "#teste para checar como retornam os dataframes\n",
    "tables = {}\n",
    "for nome_api, url in apis.items():\n",
    "    print(f\"\\nCarregando dados da API: {nome_api}\")\n",
    "    table = carregar_api(url, nome_api)\n",
    "    print(f\"Os 5 primeiros registros da tabela de {nome_api}:\\n\", table.head())\n",
    "    "
   ]
  }
 ],
 "metadata": {
  "kernelspec": {
   "display_name": "Python 3",
   "language": "python",
   "name": "python3"
  },
  "language_info": {
   "codemirror_mode": {
    "name": "ipython",
    "version": 3
   },
   "file_extension": ".py",
   "mimetype": "text/x-python",
   "name": "python",
   "nbconvert_exporter": "python",
   "pygments_lexer": "ipython3",
   "version": "3.12.5"
  }
 },
 "nbformat": 4,
 "nbformat_minor": 2
}
